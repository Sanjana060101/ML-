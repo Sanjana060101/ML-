{
  "nbformat": 4,
  "nbformat_minor": 0,
  "metadata": {
    "colab": {
      "name": "2.6_decision_tree_regression_NOTEBOOK.ipynb",
      "provenance": [],
      "collapsed_sections": [],
      "include_colab_link": true
    },
    "kernelspec": {
      "name": "python3",
      "display_name": "Python 3"
    }
  },
  "cells": [
    {
      "cell_type": "markdown",
      "metadata": {
        "id": "view-in-github",
        "colab_type": "text"
      },
      "source": [
        "<a href=\"https://colab.research.google.com/github/Sanjana060101/ML-/blob/main/2_6_decision_tree_regression_NOTEBOOK.ipynb\" target=\"_parent\"><img src=\"https://colab.research.google.com/assets/colab-badge.svg\" alt=\"Open In Colab\"/></a>"
      ]
    },
    {
      "cell_type": "markdown",
      "metadata": {
        "id": "rIZxbE0zgZF5"
      },
      "source": [
        "# Cart = 1) Classification Trees 2) Regression Trees"
      ]
    },
    {
      "cell_type": "markdown",
      "metadata": {
        "id": "r3cas2_1T98w"
      },
      "source": [
        "# Decision Tree Regression\n",
        "\n",
        "Each split is called a leaf , once all the leaves are made , we calculate the average value of y from the paricipants in one leaf , we do it for every leaf .\n",
        "All leafs are structured and have a average value of them , now to predict a new observation , we follow the structure to find out in which leaf our observation will go and then once found , we predict the average value of that leaf as the result for our observation \n",
        "\n",
        "---\n",
        "\n",
        "Decision tree is not very well adapted to simple datasets like the ones having one feature and y \n",
        "\n",
        "---\n",
        "No need to apply feature scaling for this as predictions are resulting from successive splits of the data , no equation exits here , so can work totally fine with different scales of feature as well\n",
        "\n",
        "---\n",
        "Not the best model to use on a single feature dataset , good for high dimensional dataset\n",
        "\n"
      ]
    },
    {
      "cell_type": "markdown",
      "metadata": {
        "id": "IODliia6U1xO"
      },
      "source": [
        "## Importing the libraries"
      ]
    },
    {
      "cell_type": "code",
      "metadata": {
        "id": "y98nA5UdU6Hf"
      },
      "source": [
        "import numpy as np\n",
        "import matplotlib.pyplot as plt\n",
        "import pandas as pd"
      ],
      "execution_count": null,
      "outputs": []
    },
    {
      "cell_type": "markdown",
      "metadata": {
        "id": "jpjZ43YlU8eI"
      },
      "source": [
        "## Importing the dataset"
      ]
    },
    {
      "cell_type": "code",
      "metadata": {
        "id": "pLVaXoYVU_Uy"
      },
      "source": [
        "dataset = pd.read_csv('Position_Salaries.csv')\n",
        "X = dataset.iloc[:, 1:-1].values\n",
        "y = dataset.iloc[:, -1].values\n"
      ],
      "execution_count": null,
      "outputs": []
    },
    {
      "cell_type": "markdown",
      "metadata": {
        "id": "nzLdF9yJ0u1D"
      },
      "source": [
        "***For multi featured dataset , feature matrix X will change , else you*** ***don't need to change anything except including some data preprocessing***\n",
        "***tools and splitting the train and test set***"
      ]
    },
    {
      "cell_type": "markdown",
      "metadata": {
        "id": "g16qFkFQVC35"
      },
      "source": [
        "## Training the Decision Tree Regression model on the whole dataset"
      ]
    },
    {
      "cell_type": "code",
      "metadata": {
        "id": "xYxEVIAIszt1"
      },
      "source": [
        "from sklearn.tree import DecisionTreeRegressor\n",
        "regressor = DecisionTreeRegressor(random_state = 0)  # as many random things are happening , this makes us have same results in the end\n",
        "regressor.fit(X,y) # this will train the decision tree regressor to understand the corelations between the positions level\n",
        "# and salary , after which we will have a trained model which we'll be able to deploy in production to predict the new results "
      ],
      "execution_count": null,
      "outputs": []
    },
    {
      "cell_type": "markdown",
      "metadata": {
        "id": "MQRGPTH3VcOn"
      },
      "source": [
        "## Predicting a new result"
      ]
    },
    {
      "cell_type": "code",
      "metadata": {
        "colab": {
          "base_uri": "https://localhost:8080/"
        },
        "id": "nRomwK1hvQWU",
        "outputId": "176a7d09-24e7-48e0-bd69-a1e644c29f1a"
      },
      "source": [
        "regressor.predict([[6.5]])   # have to put the observation in a 2d array\n",
        "\n",
        "# predicting single observation with multiple features regressor.predict([[6.5,30,40]]) "
      ],
      "execution_count": null,
      "outputs": [
        {
          "output_type": "execute_result",
          "data": {
            "text/plain": [
              "array([150000.])"
            ]
          },
          "metadata": {},
          "execution_count": 5
        }
      ]
    },
    {
      "cell_type": "markdown",
      "metadata": {
        "id": "ph8ExBj0VkIT"
      },
      "source": [
        "## Visualising the Decision Tree Regression results (higher resolution)"
      ]
    },
    {
      "cell_type": "code",
      "metadata": {
        "colab": {
          "base_uri": "https://localhost:8080/",
          "height": 295
        },
        "id": "O02_bbD5wk3z",
        "outputId": "89746fde-baec-4e27-9dcc-4999d4e7a180"
      },
      "source": [
        "X_grid = np.arange(min(X), max(X), 0.1)\n",
        "X_grid = X_grid.reshape((len(X_grid), 1))\n",
        "plt.scatter(X, y, color = 'red')\n",
        "plt.plot(X_grid,regressor.predict(X_grid), color = 'blue')\n",
        "plt.title('Truth or Bluff (Decision Tree)')\n",
        "plt.xlabel('Position level')\n",
        "plt.ylabel('Salary')\n",
        "plt.show()\n",
        "\n",
        "\n",
        "\n",
        "# If we have multiple features then we can't plot it like this , because this is used for 2d plotting only \n",
        "# to plot multiple features we need higher dimensional plotting \n"
      ],
      "execution_count": null,
      "outputs": [
        {
          "output_type": "display_data",
          "data": {
            "image/png": "[encoded data removed]",
            "text/plain": [
              "<Figure size 432x288 with 1 Axes>"
            ]
          },
          "metadata": {
            "needs_background": "light"
          }
        }
      ]
    },
    {
      "cell_type": "code",
      "metadata": {
        "id": "oKP6xtFjxIKC"
      },
      "source": [
        "# in the range of -0.5+position level to 0.5+position level , decision tree regressor predicted the same salary for all of the position\n",
        "# levels in this range"
      ],
      "execution_count": null,
      "outputs": []
    },
    {
      "cell_type": "code",
      "metadata": {
        "colab": {
          "base_uri": "https://localhost:8080/",
          "height": 295
        },
        "id": "FbiqZ_f6yt4M",
        "outputId": "7d6b02c6-1c47-45c8-b7ea-96a61d69e6d9"
      },
      "source": [
        "plt.scatter(X, y, color = 'red')\n",
        "plt.plot(X,regressor.predict(X), color = 'blue')\n",
        "plt.title('Truth or Bluff (Decision Tree)')\n",
        "plt.xlabel('Position level')\n",
        "plt.ylabel('Salary')\n",
        "plt.show()\n"
      ],
      "execution_count": null,
      "outputs": [
        {
          "output_type": "display_data",
          "data": {
            "image/png": "[encoded data removed]",
            "text/plain": [
              "<Figure size 432x288 with 1 Axes>"
            ]
          },
          "metadata": {
            "needs_background": "light"
          }
        }
      ]
    },
    {
      "cell_type": "code",
      "metadata": {
        "id": "9K4hBO8vyxx2"
      },
      "source": [
        ""
      ],
      "execution_count": null,
      "outputs": []
    }
  ]
}